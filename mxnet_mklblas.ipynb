{
 "cells": [
  {
   "cell_type": "markdown",
   "metadata": {},
   "source": [
    "# Better Performance with MKL BLAS on MXNet 1.6 Deep Learning Containers\n",
    "\n",
    "Inference speed and performance is often times one of the most crucial factors for deciding to deploy a model in a production environment. Small increases in latency can be costly, so every bit of performance boost that can be had can help the overall costs. Because of our obessesion for customers, the MXNet team has brought a solution to improve the latency for inference using MXNet 1.6 Deep learning containers. In this post, we dicuss the improvement that was made to the MXNet 1.6.0 DLC version to make use of highly optimized matrix operators. The enhancement comes in the form of compiling MXNet with a dependency on Intel MKL BLAS instead of the default, oneDNN. As one will see, the performance boost can be up to 30% in latency reduction, making this a worthwhile option for our customers to implement in their production environment. To describe and show the enhancements in more detail, we will use the MNIST dataset to briefly give context of performing inference on Amazon SageMaker. Then, we will discuss the differences between the MKL BLAS and oneDNN libraries. Lastly, we will show how to implement the enhancement in your environment so that you can take advantage of the performance boost. "
   ]
  },
  {
   "cell_type": "markdown",
   "metadata": {},
   "source": [
    "**Note: MXNet 1.7+ Deep Learning Containers have this enhancement as a default, so this solution applies to customers who don't want to change the MXNet version from 1.6.0**"
   ]
  },
  {
   "cell_type": "markdown",
   "metadata": {},
   "source": [
    "## Inference on Amazon SageMaker\n",
    "\n",
    "Amazon SageMaker makes it really easy to deploy, host and maintain models. As part of that, choosing what framework or deep learning container to use is also a matter of setting a parameter. For the remainder of this post, we will use the MNIST dataset to quickly give examples for context and to show the performance difference between the MKL BLAS library and oneDNN library. But first, here is a brief example of how to perform inference in SageMaker."
   ]
  },
  {
   "cell_type": "markdown",
   "metadata": {},
   "source": [
    "### Setup\n",
    "\n",
    "First we define a few variables that are needed to perform operations in SageMaker"
   ]
  },
  {
   "cell_type": "code",
   "execution_count": 8,
   "metadata": {},
   "outputs": [],
   "source": [
    "tweets = pd.read_csv('training.1600000.processed.noemoticon.csv', encoding=\"ISO-8859-1\", names=[\"target\", \"ids\", \"date\", \"flag\", \"user\", \"text\"])"
   ]
  },
  {
   "cell_type": "code",
   "execution_count": 1,
   "metadata": {},
   "outputs": [
    {
     "name": "stdout",
     "output_type": "stream",
     "text": [
      "\u001b[33mWARNING: You are using pip version 20.0.2; however, version 20.2.4 is available.\n",
      "You should consider upgrading via the '/home/ec2-user/anaconda3/envs/mxnet_p36/bin/python -m pip install --upgrade pip' command.\u001b[0m\n",
      "\u001b[33mWARNING: You are using pip version 20.0.2; however, version 20.2.4 is available.\n",
      "You should consider upgrading via the '/home/ec2-user/anaconda3/envs/mxnet_p36/bin/python -m pip install --upgrade pip' command.\u001b[0m\n",
      "\u001b[33mWARNING: You are using pip version 20.0.2; however, version 20.2.4 is available.\n",
      "You should consider upgrading via the '/home/ec2-user/anaconda3/envs/mxnet_p36/bin/python -m pip install --upgrade pip' command.\u001b[0m\n"
     ]
    }
   ],
   "source": [
    "!pip install gluonnlp --quiet\n",
    "!pip install bert --quiet\n",
    "!pip install mxnet --upgrade --quiet"
   ]
  },
  {
   "cell_type": "code",
   "execution_count": 2,
   "metadata": {},
   "outputs": [
    {
     "name": "stdout",
     "output_type": "stream",
     "text": [
      "\u001b[33mWARNING: You are using pip version 20.0.2; however, version 20.2.4 is available.\n",
      "You should consider upgrading via the '/home/ec2-user/anaconda3/envs/mxnet_p36/bin/python -m pip install --upgrade pip' command.\u001b[0m\n"
     ]
    }
   ],
   "source": [
    "!pip install gluoncv --quiet"
   ]
  },
  {
   "cell_type": "code",
   "execution_count": 7,
   "metadata": {
    "isConfigCell": true
   },
   "outputs": [],
   "source": [
    "from sagemaker import get_execution_role\n",
    "from sagemaker.session import Session\n",
    "from sagemaker.mxnet.model import MXNetModel, MXNetPredictor\n",
    "import pandas as pd\n",
    "from sagemaker import utils\n",
    "import boto3\n",
    "import gzip\n",
    "import os\n",
    "import struct\n",
    "import numpy as np\n",
    "import tempfile\n",
    "import mxnet as mx\n",
    "import tarfile\n",
    "import urllib.request\n",
    "import gluonnlp as nlp\n",
    "from transform import BERTDatasetTransform\n",
    "from gluonnlp.calibration import BertLayerCollector\n",
    "# S3 bucket for saving code and model artifacts.\n",
    "# Feel free to specify a different bucket here if you wish.\n",
    "bucket = Session().default_bucket()\n",
    "\n",
    "# Bucket location where results of model training are saved.\n",
    "model_artifacts_location = 's3://{}/mxnet-mnist-example/artifacts'.format(bucket)\n",
    "\n",
    "# IAM execution role that gives SageMaker access to resources in your AWS account.\n",
    "# We can use the SageMaker Python SDK to get the role from our notebook environment. \n",
    "role = get_execution_role()\n",
    "sagemaker_session = Session()\n",
    "region = boto3.Session().region_name\n",
    "test_data_location = 'sagemaker-sample-data-{}'.format(region)"
   ]
  },
  {
   "cell_type": "markdown",
   "metadata": {},
   "source": [
    "### Setup Data \n",
    "\n",
    "This dataset contains 10,000 images that 28x28 pixels."
   ]
  },
  {
   "cell_type": "markdown",
   "metadata": {},
   "source": [
    "### Define Utility Function\n",
    "These functions will help to load data into memory"
   ]
  },
  {
   "cell_type": "code",
   "execution_count": 4,
   "metadata": {},
   "outputs": [],
   "source": [
    "def deploy_bert(sagemaker_session, ecr_image, instance_type, framework_version, role):\n",
    "    import urllib.request\n",
    "    tmpdir = tempfile.mkdtemp()\n",
    "    tmpfile = 'bert_sst.tar.gz'\n",
    "    urllib.request.urlretrieve('https://aws-dlc-sample-models.s3.amazonaws.com/bert_sst/bert_sst.tar.gz', tmpfile)\n",
    "\n",
    "    prefix = 'bert-model'\n",
    "    model_data = sagemaker_session.upload_data(path=tmpfile, key_prefix=prefix)\n",
    "\n",
    "    script = \"bert_inference.py\"\n",
    "    model = MXNetModel(model_data,\n",
    "                       role,\n",
    "                       script,\n",
    "                       image_uri=ecr_image,\n",
    "                       py_version=\"py3\",\n",
    "                       framework_version=framework_version,\n",
    "                       sagemaker_session=sagemaker_session)\n",
    "\n",
    "    endpoint_name = utils.unique_name_from_base('bert')\n",
    "    print(\"Deploying...\")\n",
    "    predictor = model.deploy(1, instance_type, endpoint_name=endpoint_name)\n",
    "\n",
    "    ################################# Use this as an example for inference\n",
    "    #print(\"\\nPredicting...\")\n",
    "    #output = predictor.predict([\"Positive sentiment\", \"Negative sentiment\"])\n",
    "    #assert [1, 0] == output\n",
    "    #################################\n",
    "    \n",
    "    return predictor\n",
    "\n",
    "\n",
    "def inference(data, predictor, loops=10):\n",
    "    times = []\n",
    "    for i in range(loops):\n",
    "        output = predictor.predict(list(tweets.text[:100]))\n",
    "        times.append(output['time'])\n",
    "    \n",
    "    print(\"Avg:\", np.mean(times), \"Std:\", np.std(times), \"with {} loops\".format(loops))\n",
    "    return times"
   ]
  },
  {
   "cell_type": "markdown",
   "metadata": {},
   "source": [
    "### Create an inference Endpoint\n",
    "\n",
    "We use the ``MXNet model`` object to load model data and deploy an ``MXNetPredictor``. This creates a Sagemaker **Endpoint** -- a hosted prediction service that we can use to perform inference. \n",
    "\n",
    "The arguments to the ``deploy`` function allow us to set the number and type of instances that will be used for the Endpoint. Here we will deploy the model to a single ``ml.m4.xlarge`` instance. By not setting the ``image`` parameter, ``MXNetModel`` uses the default deep learning container image."
   ]
  },
  {
   "cell_type": "markdown",
   "metadata": {},
   "source": [
    "## MKL BLAS vs oneDNN\n",
    "\n",
    "The MKL BLAS and oneDNN libraries of math routines that are used to perform mathmatical operations on data. You can think of these as low level instructions that progamming languages use to perform computations. In the case of MXNet, it uses these libraries to for its operations such as dot products and other computationally expensive operations. MKL BLAS as version implemented by Intel, that uses highly optimized operators for CPU. These operators like the ``dot`` operator, are much faster than the operators found on the default library, oneDNN. So in order to take advantage of the speed boost, the MXNet team packaged the the MXNet 1.6 version with Intel's MKL BLAS library in a deep learning container available for use. In the diagram below, you can see the changes that are made between the different math libraries and MXNet versions.  "
   ]
  },
  {
   "cell_type": "markdown",
   "metadata": {},
   "source": [
    "### Performance\n",
    "\n",
    "In order to see the performance increase, we describe now how to implement the MKL BLAS and oneDNN based deep learning containers using SageMaker. "
   ]
  },
  {
   "cell_type": "markdown",
   "metadata": {},
   "source": [
    "#### oneDNN \n",
    "\n",
    "Notice the parameter ``image`` is set to a uri. This is the deep learning container uri, and the ``v3.7`` specifies a version of this MXNet 1.6 container that is compiled with oneDNN. "
   ]
  },
  {
   "cell_type": "code",
   "execution_count": 5,
   "metadata": {},
   "outputs": [
    {
     "name": "stdout",
     "output_type": "stream",
     "text": [
      "Deploying...\n",
      "-----------------!\n",
      "Predicting...\n"
     ]
    }
   ],
   "source": [
    "ecr_image = \"763104351884.dkr.ecr.us-east-1.amazonaws.com/mxnet-inference:1.6.0-cpu-py36-ubuntu16.04-v3.7\"\n",
    "onednn_predictor = deploy_bert(sagemaker_session, ecr_image, 'ml.m4.xlarge', \"1.6.0\", role)"
   ]
  },
  {
   "cell_type": "code",
   "execution_count": 9,
   "metadata": {},
   "outputs": [
    {
     "name": "stdout",
     "output_type": "stream",
     "text": [
      "Avg: 55.409968686103824 Std: 0.12656422301418305 with 10 loops\n"
     ]
    },
    {
     "data": {
      "text/plain": [
       "[55.78212642669678,\n",
       " 55.4226975440979,\n",
       " 55.36242318153381,\n",
       " 55.377811670303345,\n",
       " 55.33304786682129,\n",
       " 55.36034035682678,\n",
       " 55.37596607208252,\n",
       " 55.37017631530762,\n",
       " 55.3291597366333,\n",
       " 55.38593769073486]"
      ]
     },
     "execution_count": 9,
     "metadata": {},
     "output_type": "execute_result"
    }
   ],
   "source": [
    "times = inference(tweets.text[:100], onednn_predictor)"
   ]
  },
  {
   "cell_type": "markdown",
   "metadata": {},
   "source": [
    "#### MKL BLAS\n",
    "\n",
    "To specify the deep learning container with MKL BLAS, you change the version identifier in the image uri to ``v3.8``."
   ]
  },
  {
   "cell_type": "code",
   "execution_count": null,
   "metadata": {},
   "outputs": [
    {
     "name": "stdout",
     "output_type": "stream",
     "text": [
      "Deploying...\n",
      "------------"
     ]
    }
   ],
   "source": [
    "ecr_image = \"763104351884.dkr.ecr.us-east-1.amazonaws.com/mxnet-inference:1.6.0-cpu-py36-ubuntu16.04-v3.8\"\n",
    "mkl_predictor = deploy_bert(sagemaker_session, ecr_image, 'ml.m4.xlarge', \"1.6.0\", role)"
   ]
  },
  {
   "cell_type": "code",
   "execution_count": null,
   "metadata": {},
   "outputs": [],
   "source": [
    "times = inference(tweets.text[:100], mkl_predictor)"
   ]
  },
  {
   "cell_type": "markdown",
   "metadata": {},
   "source": [
    "# (Optional) Delete the Endpoint\n",
    "\n",
    "After you have finished with this example, remember to delete the prediction endpoint to release the instance(s) associated with it."
   ]
  },
  {
   "cell_type": "code",
   "execution_count": 36,
   "metadata": {},
   "outputs": [],
   "source": [
    "predictor.delete_endpoint()\n",
    "oneDNN_predictor.delete_endpoint()\n",
    "mklblas_predictor.delete_endpoint()"
   ]
  },
  {
   "cell_type": "markdown",
   "metadata": {},
   "source": [
    "# BERT"
   ]
  },
  {
   "cell_type": "code",
   "execution_count": 35,
   "metadata": {},
   "outputs": [],
   "source": [
    "def test_bert(sagemaker_session, ecr_image, instance_type, framework_version, role):\n",
    "    import urllib.request\n",
    "    tmpdir = tempfile.mkdtemp()\n",
    "    tmpfile = 'bert_sst.tar.gz'\n",
    "    urllib.request.urlretrieve('https://aws-dlc-sample-models.s3.amazonaws.com/bert_sst/bert_sst.tar.gz', tmpfile)\n",
    "\n",
    "    prefix = 'bert-model'\n",
    "    model_data = sagemaker_session.upload_data(path=tmpfile, key_prefix=prefix)\n",
    "\n",
    "    script = \"bert_inference.py\"\n",
    "    model = MXNetModel(model_data,\n",
    "                       role,\n",
    "                       script,\n",
    "                       image_uri=ecr_image,\n",
    "                       py_version=\"py3\",\n",
    "                       framework_version=framework_version,\n",
    "                       sagemaker_session=sagemaker_session)\n",
    "\n",
    "    endpoint_name = utils.unique_name_from_base('bert')\n",
    "    print(\"Deploying...\")\n",
    "    predictor = model.deploy(1, instance_type, endpoint_name=endpoint_name)\n",
    "\n",
    "    print(\"\\nPredicting...\")\n",
    "    #output = predictor.predict([\"Positive sentiment\", \"Negative sentiment\"])\n",
    "    #assert [1, 0] == output\n",
    "    \n",
    "    return predictor\n",
    "\n",
    "def deploy_bert(model_data, sagemaker_session, ecr_image, instance_type, framework_version, role, script=\"bert_inference.py\"):\n",
    "    \"\"\"\n",
    "    \"\"\"\n",
    "    model = MXNetModel(model_data,\n",
    "                       role,\n",
    "                       script,\n",
    "                       image_uri=ecr_image,\n",
    "                       py_version=\"py3\",\n",
    "                       framework_version=framework_version,\n",
    "                       sagemaker_session=sagemaker_session)\n",
    "\n",
    "    endpoint_name = utils.unique_name_from_base('test-mxnet-gluonnlp')\n",
    "    print(\"Deploying...\")\n",
    "    predictor = model.deploy(1, instance_type, endpoint_name=endpoint_name)\n",
    "    \n",
    "    print(\"\\nEndpoint Name: {}\".format(endpoint_name))\n",
    "    \n",
    "    return predictor\n",
    "\n",
    "def deploy_model(model_data, endpoint_name, sagemaker_session, ecr_image, instance_type, framework_version, role, script=\"bert_inference.py\"):\n",
    "    \"\"\"\n",
    "    \"\"\"\n",
    "    model = MXNetModel(model_data,\n",
    "                       role,\n",
    "                       script,\n",
    "                       image_uri=ecr_image,\n",
    "                       py_version=\"py3\",\n",
    "                       framework_version=framework_version,\n",
    "                       sagemaker_session=sagemaker_session)\n",
    "\n",
    "    endpoint_name = utils.unique_name_from_base(endpoint_name)\n",
    "    print(\"Deploying...\")\n",
    "    predictor = model.deploy(1, instance_type, endpoint_name=endpoint_name)\n",
    "    \n",
    "    print(\"\\nEndpoint Name: {}\".format(endpoint_name))\n",
    "    \n",
    "    return predictor"
   ]
  },
  {
   "cell_type": "code",
   "execution_count": 47,
   "metadata": {},
   "outputs": [
    {
     "name": "stdout",
     "output_type": "stream",
     "text": [
      "Deploying...\n",
      "-------------------!\n",
      "Predicting...\n"
     ]
    }
   ],
   "source": [
    "ecr_image = \"763104351884.dkr.ecr.us-east-1.amazonaws.com/mxnet-inference:1.6.0-cpu-py36-ubuntu16.04-v3.7\"\n",
    "onednn_predictor = test_bert(sagemaker_session, ecr_image, 'ml.m4.xlarge', \"1.6.0\", role)"
   ]
  },
  {
   "cell_type": "code",
   "execution_count": 48,
   "metadata": {},
   "outputs": [],
   "source": [
    "times = []\n",
    "for i in range(10):\n",
    "    output = onednn_predictor.predict(list(tweets.text[:100]))\n",
    "    times.append(output['time'])"
   ]
  },
  {
   "cell_type": "code",
   "execution_count": 49,
   "metadata": {},
   "outputs": [
    {
     "name": "stdout",
     "output_type": "stream",
     "text": [
      "Avg: 55.713221716880795\n",
      "Std: 0.20049065918782286\n"
     ]
    }
   ],
   "source": [
    "import numpy as np\n",
    "print(\"Avg:\", np.mean(times))\n",
    "print(\"Std:\", np.std(times))"
   ]
  },
  {
   "cell_type": "code",
   "execution_count": 50,
   "metadata": {},
   "outputs": [
    {
     "name": "stdout",
     "output_type": "stream",
     "text": [
      "Deploying...\n",
      "---------------!\n",
      "Predicting...\n"
     ]
    }
   ],
   "source": [
    "ecr_image = \"763104351884.dkr.ecr.us-east-1.amazonaws.com/mxnet-inference:1.6.0-cpu-py36-ubuntu16.04-v3.8\"\n",
    "mkl_predictor = test_bert(sagemaker_session, ecr_image, 'ml.m4.xlarge', \"1.6.0\", role)"
   ]
  },
  {
   "cell_type": "code",
   "execution_count": 51,
   "metadata": {},
   "outputs": [],
   "source": [
    "times = []\n",
    "for i in range(10):\n",
    "    output = mkl_predictor.predict(list(tweets.text[:100]))\n",
    "    times.append(output[\"time\"])"
   ]
  },
  {
   "cell_type": "code",
   "execution_count": 52,
   "metadata": {},
   "outputs": [
    {
     "name": "stdout",
     "output_type": "stream",
     "text": [
      "Avg: 48.21942739486694\n",
      "Std: 0.34405162161675223\n"
     ]
    }
   ],
   "source": [
    "print(\"Avg:\", np.mean(times))\n",
    "print(\"Std:\", np.std(times))"
   ]
  }
 ],
 "metadata": {
  "kernelspec": {
   "display_name": "conda_mxnet_p36",
   "language": "python",
   "name": "conda_mxnet_p36"
  },
  "language_info": {
   "codemirror_mode": {
    "name": "ipython",
    "version": 3
   },
   "file_extension": ".py",
   "mimetype": "text/x-python",
   "name": "python",
   "nbconvert_exporter": "python",
   "pygments_lexer": "ipython3",
   "version": "3.6.10"
  },
  "notice": "Copyright 2017 Amazon.com, Inc. or its affiliates. All Rights Reserved.  Licensed under the Apache License, Version 2.0 (the \"License\"). You may not use this file except in compliance with the License. A copy of the License is located at http://aws.amazon.com/apache2.0/ or in the \"license\" file accompanying this file. This file is distributed on an \"AS IS\" BASIS, WITHOUT WARRANTIES OR CONDITIONS OF ANY KIND, either express or implied. See the License for the specific language governing permissions and limitations under the License."
 },
 "nbformat": 4,
 "nbformat_minor": 4
}
